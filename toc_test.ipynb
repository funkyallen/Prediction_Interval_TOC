{
 "cells": [
  {
   "cell_type": "markdown",
   "metadata": {},
   "source": [
    "#### PI-NN test for TOC data\n",
    "#### alpha = 0.1"
   ]
  },
  {
   "cell_type": "code",
   "execution_count": 7,
   "metadata": {},
   "outputs": [
    {
     "name": "stderr",
     "output_type": "stream",
     "text": [
      "100%|██████████| 800/800 [00:12<00:00, 62.23it/s]\n"
     ]
    },
    {
     "name": "stdout",
     "output_type": "stream",
     "text": [
      "PICP = 0.87, PIMW = 0.13, PIAD = 0.11, PIEI = 0.31\n"
     ]
    }
   ],
   "source": [
    "import numpy as np\n",
    "\n",
    "from models.tensorflow_pi import TF_PI\n",
    "from utils.data_preprocess import pre_process\n",
    "from utils.plot_func import plot_pi_toc\n",
    "from utils.tools import Loss_func\n",
    "\n",
    "TOC_file = './data/well_3/TOC_data_liushagang.csv'\n",
    "# TOC_file = './data/well_3/TOC_data.csv'\n",
    "welllog_file = './data/well_3/welllog_data.csv'\n",
    "\n",
    "stratum_depth = [2402.4, 2543.3, 2790.3, 2995]\n",
    "stratum_name = ['Liushagang_1', 'Liushagang_2', 'Liushagang_3']\n",
    "logging_data, toc_data, unit, merge_toc, _ = pre_process(\n",
    "    TOC_file, welllog_file, stratum_depth)\n",
    "X = merge_toc[merge_toc.columns.difference(['DEPT', 'TOC'])].to_numpy()\n",
    "y = merge_toc['TOC'].to_numpy()\n",
    "\n",
    "test_data = logging_data[logging_data.columns.difference(['DEPT'])]\n",
    "\n",
    "alpha = 0.15\n",
    "tf_pi = TF_PI(alpha, weight=[1, 0.8, 0.5])\n",
    "history = tf_pi.fit(X, y, epochs=800)\n",
    "result = tf_pi.predict(test_data)\n",
    "model_loss = Loss_func(result, y, (1-alpha),\n",
    "                      merge_toc['DEPT'].to_numpy(), logging_data['DEPT'].to_numpy())\n",
    "\n",
    "print(\"PICP = {}, PIMW = {}, PIAD = {}, PIEI = {}\".format(model_loss.picp, model_loss.pimw,\n",
    "                                                          model_loss.piad, model_loss.loss))\n",
    "\n",
    "plot_pi_toc(result, merge_toc, logging_data, stratum_depth,\n",
    "            stratum_name, model_loss.outlier, model_std=None)"
   ]
  },
  {
   "cell_type": "markdown",
   "metadata": {},
   "source": [
    "***\n",
    "#### Different alphas test\n",
    "#### alphas = [0.2, 0.15, 0.1, 0.05]"
   ]
  },
  {
   "cell_type": "code",
   "execution_count": 4,
   "metadata": {},
   "outputs": [
    {
     "name": "stderr",
     "output_type": "stream",
     "text": [
      "100%|██████████| 1000/1000 [00:23<00:00, 43.29it/s]\n"
     ]
    },
    {
     "name": "stdout",
     "output_type": "stream",
     "text": [
      "184/184 [==============================] - 0s 929us/step\n"
     ]
    },
    {
     "name": "stderr",
     "output_type": "stream",
     "text": [
      "100%|██████████| 1000/1000 [00:22<00:00, 43.81it/s]\n"
     ]
    },
    {
     "name": "stdout",
     "output_type": "stream",
     "text": [
      "184/184 [==============================] - 0s 929us/step\n"
     ]
    },
    {
     "name": "stderr",
     "output_type": "stream",
     "text": [
      "100%|██████████| 1000/1000 [00:23<00:00, 43.09it/s]\n"
     ]
    },
    {
     "name": "stdout",
     "output_type": "stream",
     "text": [
      "184/184 [==============================] - 0s 973us/step\n"
     ]
    },
    {
     "name": "stderr",
     "output_type": "stream",
     "text": [
      "100%|██████████| 1000/1000 [00:23<00:00, 42.77it/s]"
     ]
    },
    {
     "name": "stdout",
     "output_type": "stream",
     "text": [
      "  1/184 [..............................] - ETA: 11s"
     ]
    },
    {
     "name": "stderr",
     "output_type": "stream",
     "text": [
      "\n"
     ]
    },
    {
     "name": "stdout",
     "output_type": "stream",
     "text": [
      "184/184 [==============================] - 0s 1ms/step\n"
     ]
    },
    {
     "name": "stderr",
     "output_type": "stream",
     "text": [
      "100%|██████████| 4/4 [01:33<00:00, 23.47s/it]"
     ]
    },
    {
     "name": "stdout",
     "output_type": "stream",
     "text": [
      "[array([0.78, 0.1 , 0.07, 0.23]), array([0.87, 0.18, 0.13, 0.38]), array([0.91, 0.3 , 0.22, 0.55]), array([0.91, 0.13, 0.11, 1.01])]\n"
     ]
    },
    {
     "name": "stderr",
     "output_type": "stream",
     "text": [
      "\n"
     ]
    }
   ],
   "source": [
    "from models.ensemble_pi import diff_alphas_PI\n",
    "from utils.data_preprocess import pre_process\n",
    "from utils.plot_func import subplot_fit_process, subplot_multi_toc\n",
    "\n",
    "TOC_file = './data/well_3/TOC_data_liushagang.csv'\n",
    "welllog_file = './data/well_3/welllog_data.csv'\n",
    "\n",
    "stratum_depth = [2402.4, 2543.3, 2790.3, 2995]\n",
    "stratum_name = ['Liushagang_1', 'Liushagang_2', 'Liushagang_3']\n",
    "logging_data, toc_data, unit, merge_toc, _ = pre_process(\n",
    "    TOC_file, welllog_file, stratum_depth)\n",
    "X = merge_toc[merge_toc.columns.difference(['DEPT', 'TOC'])].to_numpy()\n",
    "y = merge_toc['TOC'].to_numpy()\n",
    "test_data = logging_data[logging_data.columns.difference(['DEPT'])]\n",
    "alphas = [0.2, 0.15, 0.1, 0.05]\n",
    "result_all, index_all, outlier_list, hist = diff_alphas_PI(\n",
    "    X, y, test_data, merge_toc['DEPT'].to_numpy(), logging_data['DEPT'].to_numpy(), \n",
    "    alphas, weight=[1, 0.7, 0.5])\n",
    "\n",
    "print(index_all)\n",
    "subplot_multi_toc(result_all, alphas, outlier_list,\n",
    "                       merge_toc['DEPT'].to_numpy(), logging_data['DEPT'].to_numpy(), y, stratum_depth, stratum_name)\n",
    "\n",
    "subplot_fit_process(hist, alphas)"
   ]
  },
  {
   "cell_type": "markdown",
   "metadata": {},
   "source": [
    "***\n",
    "##### Ensemble PI-NN test\n",
    "##### alpha = 0.1"
   ]
  },
  {
   "cell_type": "code",
   "execution_count": 3,
   "metadata": {},
   "outputs": [
    {
     "name": "stderr",
     "output_type": "stream",
     "text": [
      "100%|██████████| 1000/1000 [00:24<00:00, 41.42it/s]\n"
     ]
    },
    {
     "name": "stdout",
     "output_type": "stream",
     "text": [
      "184/184 [==============================] - 0s 1ms/step\n"
     ]
    },
    {
     "name": "stderr",
     "output_type": "stream",
     "text": [
      "100%|██████████| 1000/1000 [00:23<00:00, 42.31it/s]"
     ]
    },
    {
     "name": "stdout",
     "output_type": "stream",
     "text": [
      " 55/184 [=======>......................] - ETA: 0s"
     ]
    },
    {
     "name": "stderr",
     "output_type": "stream",
     "text": [
      "\n"
     ]
    },
    {
     "name": "stdout",
     "output_type": "stream",
     "text": [
      "184/184 [==============================] - 0s 1ms/step\n"
     ]
    },
    {
     "name": "stderr",
     "output_type": "stream",
     "text": [
      "100%|██████████| 1000/1000 [00:23<00:00, 42.18it/s]"
     ]
    },
    {
     "name": "stdout",
     "output_type": "stream",
     "text": [
      "  1/184 [..............................] - ETA: 9s"
     ]
    },
    {
     "name": "stderr",
     "output_type": "stream",
     "text": [
      "\n"
     ]
    },
    {
     "name": "stdout",
     "output_type": "stream",
     "text": [
      "184/184 [==============================] - 0s 923us/step\n"
     ]
    },
    {
     "name": "stderr",
     "output_type": "stream",
     "text": [
      "100%|██████████| 1000/1000 [00:22<00:00, 44.90it/s]\n"
     ]
    },
    {
     "name": "stdout",
     "output_type": "stream",
     "text": [
      "184/184 [==============================] - 0s 907us/step\n"
     ]
    },
    {
     "name": "stderr",
     "output_type": "stream",
     "text": [
      "100%|██████████| 1000/1000 [00:21<00:00, 45.63it/s]"
     ]
    },
    {
     "name": "stdout",
     "output_type": "stream",
     "text": [
      "  1/184 [..............................] - ETA: 8s"
     ]
    },
    {
     "name": "stderr",
     "output_type": "stream",
     "text": [
      "\n"
     ]
    },
    {
     "name": "stdout",
     "output_type": "stream",
     "text": [
      "184/184 [==============================] - 0s 891us/step\n"
     ]
    },
    {
     "name": "stderr",
     "output_type": "stream",
     "text": [
      "100%|██████████| 5/5 [01:57<00:00, 23.45s/it]"
     ]
    },
    {
     "name": "stdout",
     "output_type": "stream",
     "text": [
      "PICP = 0.91, PIMW = 0.34, PIAD = 0.12, Loss = 0.49\n"
     ]
    },
    {
     "name": "stderr",
     "output_type": "stream",
     "text": [
      "\n"
     ]
    }
   ],
   "source": [
    "import numpy as np\n",
    "\n",
    "from models.ensemble_pi import Bootstrap_PI\n",
    "from utils.data_preprocess import pre_process\n",
    "from utils.plot_func import plot_pi_toc, plot_simple_boundary\n",
    "from utils.tools import Loss_func\n",
    "\n",
    "TOC_file = './data/well_3/TOC_data_liushagang.csv'\n",
    "welllog_file = './data/well_3/welllog_data.csv'\n",
    "\n",
    "stratum_depth = [2402.4, 2543.3, 2790.3, 2995]\n",
    "stratum_name = ['Liushagang_1', 'Liushagang_2', 'Liushagang_3']\n",
    "logging_data, toc_data, unit, merge_toc, _ = pre_process(\n",
    "    TOC_file, welllog_file, stratum_depth)\n",
    "X = merge_toc[merge_toc.columns.difference(['DEPT', 'TOC'])].to_numpy()\n",
    "y = merge_toc['TOC'].to_numpy()\n",
    "test_data = logging_data[logging_data.columns.difference(['DEPT'])]\n",
    "\n",
    "\n",
    "alpha = 0.1\n",
    "model = Bootstrap_PI(5, alpha, [1, 0.3, 0.5], bootstrap_method='prop_of_data')\n",
    "result_all, hist, y_pred_gauss_mid, y_pred_gauss_dev, up_low = model.fit_predict(\n",
    "    X, y, test_data)\n",
    "\n",
    "model_loss = Loss_func(up_low, y, (1-alpha),\n",
    "                     toc_data['DEPT'].to_numpy(), logging_data['DEPT'].to_numpy())\n",
    "print(\"PICP = {}, PIMW = {}, PIAD = {}, Loss = {}\".format(model_loss.picp, model_loss.pimw,\n",
    "                                                          model_loss.piad, model_loss.loss))\n",
    "plot_pi_toc(up_low, merge_toc, logging_data, stratum_depth,\n",
    "            stratum_name, model_loss.outlier, y_pred_gauss_dev)"
   ]
  },
  {
   "cell_type": "code",
   "execution_count": null,
   "metadata": {},
   "outputs": [],
   "source": []
  },
  {
   "cell_type": "markdown",
   "metadata": {},
   "source": [
    "***\n",
    "##### GPR TOC Test\n",
    "##### alpha = 0.1"
   ]
  },
  {
   "cell_type": "code",
   "execution_count": 1,
   "metadata": {},
   "outputs": [
    {
     "name": "stderr",
     "output_type": "stream",
     "text": [
      "f:\\Anaconda\\envs\\pi\\lib\\site-packages\\sklearn\\base.py:443: UserWarning: X has feature names, but GaussianProcessRegressor was fitted without feature names\n",
      "  warnings.warn(\n"
     ]
    },
    {
     "name": "stdout",
     "output_type": "stream",
     "text": [
      "PICP = 0.96, PIMW = 0.8, PIAD = 0.2, Loss = 1.92\n"
     ]
    }
   ],
   "source": [
    "import numpy as np\n",
    "from scipy import stats\n",
    "from sklearn.gaussian_process import GaussianProcessRegressor\n",
    "from sklearn.gaussian_process.kernels import RBF\n",
    "from sklearn.gaussian_process.kernels import ConstantKernel as C\n",
    "from sklearn.gaussian_process.kernels import DotProduct, WhiteKernel\n",
    "\n",
    "from utils.data_preprocess import pre_process\n",
    "from utils.plot_func import plot_pi_toc\n",
    "from utils.tools import Loss_func\n",
    "\n",
    "TOC_file = './data/well_3/TOC_data_liushagang.csv'\n",
    "welllog_file = './data/well_3/welllog_data.csv'\n",
    "\n",
    "stratum_depth = [2402.4, 2543.3, 2790.3, 2995]\n",
    "stratum_name = ['Liushagang_1', 'Liushagang_2', 'Liushagang_3']\n",
    "logging_data, toc_data, unit, merge_toc, _ = pre_process(\n",
    "    TOC_file, welllog_file, stratum_depth)\n",
    "X = merge_toc[merge_toc.columns.difference(['DEPT', 'TOC'])].to_numpy()\n",
    "y = merge_toc['TOC'].to_numpy()\n",
    "test_data = logging_data[logging_data.columns.difference(['DEPT'])]\n",
    "\n",
    "alpha = 0.1\n",
    "\n",
    "# kernel = C(1e-1, (1e-5, 1e5)) * RBF(1e-1, (1e-5, 1e5))\n",
    "# gpr = GaussianProcessRegressor(kernel=kernel, n_restarts_optimizer=100, alpha=0.1).fit(X,y)\n",
    "kernel = DotProduct() + WhiteKernel()\n",
    "gpr = GaussianProcessRegressor(kernel=kernel, n_restarts_optimizer=100,random_state=10).fit(X,y)\n",
    "result, std = gpr.predict(test_data, return_std=True)\n",
    "up_low = stats.norm.interval(1-alpha, loc=result, scale=std)\n",
    "\n",
    "up_low = np.array(up_low).T\n",
    "\n",
    "model_loss = Loss_func(up_low, y, (1-alpha),\n",
    "                     toc_data['DEPT'].to_numpy(), logging_data['DEPT'].to_numpy())\n",
    "print(\"PICP = {}, PIMW = {}, PIAD = {}, Loss = {}\".format(model_loss.picp, model_loss.pimw,\n",
    "                                                          model_loss.piad, model_loss.loss))\n",
    "\n",
    "plot_pi_toc(up_low, merge_toc, logging_data, stratum_depth,\n",
    "            stratum_name, model_loss.outlier)"
   ]
  },
  {
   "cell_type": "code",
   "execution_count": null,
   "metadata": {},
   "outputs": [],
   "source": []
  }
 ],
 "metadata": {
  "kernelspec": {
   "display_name": "Python 3.9.13 ('tensorflow')",
   "language": "python",
   "name": "python3"
  },
  "language_info": {
   "codemirror_mode": {
    "name": "ipython",
    "version": 3
   },
   "file_extension": ".py",
   "mimetype": "text/x-python",
   "name": "python",
   "nbconvert_exporter": "python",
   "pygments_lexer": "ipython3",
   "version": "3.9.13"
  },
  "orig_nbformat": 4,
  "vscode": {
   "interpreter": {
    "hash": "ea86703c29a6b8d26594d0a7f62918027908d508ca0af840bf94bcbad7c21f14"
   }
  }
 },
 "nbformat": 4,
 "nbformat_minor": 2
}
